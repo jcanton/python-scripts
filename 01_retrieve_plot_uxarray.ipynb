{
 "cells": [
  {
   "cell_type": "markdown",
   "metadata": {},
   "source": [
    "[![Open In Colab](https://colab.research.google.com/assets/colab-badge.svg)](https://colab.research.google.com/github/MeteoSwiss/opendata-nwp-demos/blob/main/01_retrieve_process_precip.ipynb)"
   ]
  },
  {
   "cell_type": "markdown",
   "metadata": {},
   "source": [
    "# Retrieving, Processing, and Visualizing Deterministic Precipitation ICON-CH2-EPS Forecast Data\n",
    "\n",
    "This notebook demonstrates uxarray plotting with some online data.\n",
    "To run you need the following packages:\n",
    "```bash\n",
    "uv venv .venv\n",
    "source .venv/bin/activate\n",
    "uv pip install uxarray"
   ]
  },
  {
   "cell_type": "code",
   "execution_count": 3,
   "metadata": {},
   "outputs": [],
   "source": [
    "# 📦 Google Colab Setup (skipped if not running in Colab)\n",
    "import sys\n",
    "\n",
    "def is_colab():\n",
    "    return \"google.colab\" in sys.modules\n",
    "\n",
    "if is_colab():\n",
    "    !git clone https://github.com/jcanton/python-scripts.git\n",
    "    %cd python-scripts\n",
    "    !uv venv .venv\n",
    "    !uv pip install uxarray\n",
    "    import sys, os, pathlib\n",
    "    venv = pathlib.Path(\".venv\")"
   ]
  },
  {
   "cell_type": "code",
   "execution_count": 5,
   "metadata": {},
   "outputs": [],
   "source": [
    "# retrieve ICON grid and data files\n",
    "import requests\n",
    "\n",
    "grid_file = \"icon_grid_0008_R02B05_G.nc\"\n",
    "data_file = \"icon_extpar_0008_R02B05_G.nc\"\n",
    "\n",
    "url = \"http://icon-downloads.mpimet.mpg.de/grids/public/edzw/\"\n",
    "\n",
    "for filename in [grid_file, data_file]:\n",
    "    with requests.get(url + filename, stream=True) as r:\n",
    "        with open(filename, \"wb\") as f:\n",
    "            for chunk in r.iter_content(chunk_size=8192):\n",
    "                f.write(chunk)"
   ]
  },
  {
   "cell_type": "code",
   "execution_count": 14,
   "metadata": {},
   "outputs": [
    {
     "name": "stdout",
     "output_type": "stream",
     "text": [
      "Launching server at http://localhost:56877\n"
     ]
    }
   ],
   "source": [
    "# load data and plot with uxarray\n",
    "import uxarray as ux\n",
    "import panel as pn\n",
    "\n",
    "# open dataset\n",
    "uxds = ux.open_dataset(grid_file, data_file)\n",
    "\n",
    "# plot (https://uxarray.readthedocs.io/en/latest/user-guide/plotting.html)\n",
    "hvplot = uxds['topography_c'].plot().opts(width=800, height=400)\n",
    "\n",
    "server = pn.panel(hvplot).show()\n"
   ]
  },
  {
   "cell_type": "code",
   "execution_count": null,
   "metadata": {},
   "outputs": [],
   "source": []
  }
 ],
 "metadata": {
  "kernelspec": {
   "display_name": "Python 3 (ipykernel)",
   "language": "python",
   "name": "python3"
  },
  "language_info": {
   "codemirror_mode": {
    "name": "ipython",
    "version": 3
   },
   "file_extension": ".py",
   "mimetype": "text/x-python",
   "name": "python",
   "nbconvert_exporter": "python",
   "pygments_lexer": "ipython3",
   "version": "3.13.3"
  }
 },
 "nbformat": 4,
 "nbformat_minor": 4
}
